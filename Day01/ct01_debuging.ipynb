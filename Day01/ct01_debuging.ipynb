{
 "cells": [
  {
   "attachments": {},
   "cell_type": "markdown",
   "metadata": {},
   "source": [
    "# 코딩 테스트 중 실수 네가지\n",
    "\n",
    "## 결함있는 코드"
   ]
  },
  {
   "cell_type": "code",
   "execution_count": 1,
   "metadata": {},
   "outputs": [
    {
     "name": "stdout",
     "output_type": "stream",
     "text": [
      "1 = 133\n",
      "2 = 133\n"
     ]
    }
   ],
   "source": [
    "import random\n",
    "\n",
    "testcase = int(input()) # 몇 번 반복 할 껀지 횟수\n",
    "max_num = 100001\n",
    "\n",
    "answer = 0\n",
    "A = [0] * (100001)  # 10만개 리스트\n",
    "\n",
    "# 2. 10001은 0 개수를 잘못 넣음\n",
    "for i in range(0,100001): # 1만개만 1~100수를 채워넣기\n",
    "    A[i] = random.randrange(1, 101) # 랜덤으로\n",
    "\n",
    "for t in range(1, testcase + 1):\n",
    "    answer = 0 # 1. 초기화 문제 해결 \n",
    "    start, end = map(int, input().split()) \n",
    "\n",
    "    for i in range(start, end + 1):\n",
    "        answer = answer + A[i]\n",
    "\n",
    "    # 4. 결과값이 정수로 나오려면 / 대신 //로 변경\n",
    "    print(f'{t} = {answer//2}')  # 3. testcase -> t로 변경"
   ]
  },
  {
   "attachments": {},
   "cell_type": "markdown",
   "metadata": {},
   "source": [
    "## 예외 1 \n",
    "\n",
    "answer 초기화 안함\n",
    "\n",
    "## 예외 2\n",
    "\n",
    "배열 범위를 잘못 입력\n",
    "\n",
    "## 예외 3\n",
    "\n",
    "변수를 잘못 사용 -> 결과가 다르게 나옴\n",
    "\n",
    "## 예외 4\n",
    "\n",
    "형변환 때문에 실수로 나온 것 (나누기 연산자)"
   ]
  }
 ],
 "metadata": {
  "kernelspec": {
   "display_name": "Python 3",
   "language": "python",
   "name": "python3"
  },
  "language_info": {
   "codemirror_mode": {
    "name": "ipython",
    "version": 3
   },
   "file_extension": ".py",
   "mimetype": "text/x-python",
   "name": "python",
   "nbconvert_exporter": "python",
   "pygments_lexer": "ipython3",
   "version": "3.11.1"
  },
  "orig_nbformat": 4,
  "vscode": {
   "interpreter": {
    "hash": "71b1b81ffc27d97be07a3b3747d87f3fa31f943afac0b672ba5feabfb5da68fc"
   }
  }
 },
 "nbformat": 4,
 "nbformat_minor": 2
}

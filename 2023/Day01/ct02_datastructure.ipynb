{
 "cells": [
  {
   "attachments": {},
   "cell_type": "markdown",
   "metadata": {},
   "source": [
    "## 자료 구조 \n",
    "\n",
    "### 숫자의 합 11720"
   ]
  },
  {
   "cell_type": "code",
   "execution_count": 51,
   "metadata": {},
   "outputs": [
    {
     "ename": "ValueError",
     "evalue": "invalid literal for int() with base 10: ''",
     "output_type": "error",
     "traceback": [
      "\u001b[1;31m---------------------------------------------------------------------------\u001b[0m",
      "\u001b[1;31mValueError\u001b[0m                                Traceback (most recent call last)",
      "Cell \u001b[1;32mIn[51], line 2\u001b[0m\n\u001b[0;32m      1\u001b[0m \u001b[39m# input 문자열 파라미터를 넣으면 틀린 문제로 간주\u001b[39;00m\n\u001b[1;32m----> 2\u001b[0m n \u001b[39m=\u001b[39m \u001b[39mint\u001b[39;49m(\u001b[39minput\u001b[39;49m(\u001b[39m'\u001b[39;49m\u001b[39m더할 수의 개수 입력 : \u001b[39;49m\u001b[39m'\u001b[39;49m))\n\u001b[0;32m      3\u001b[0m number \u001b[39m=\u001b[39m \u001b[39mlist\u001b[39m(\u001b[39mmap\u001b[39m(\u001b[39mint\u001b[39m, \u001b[39minput\u001b[39m(\u001b[39mf\u001b[39m\u001b[39m'\u001b[39m\u001b[39m{\u001b[39;00mn\u001b[39m}\u001b[39;00m\u001b[39m개의 수를 입력 : \u001b[39m\u001b[39m'\u001b[39m)))\n\u001b[0;32m      4\u001b[0m mysum \u001b[39m=\u001b[39m \u001b[39m0\u001b[39m\n",
      "\u001b[1;31mValueError\u001b[0m: invalid literal for int() with base 10: ''"
     ]
    }
   ],
   "source": [
    "# input 문자열 파라미터를 넣으면 틀린 문제로 간주\n",
    "n = int(input('더할 수의 개수 입력 : '))\n",
    "number = list(map(int, input(f'{n}개의 수를 입력 : ')))\n",
    "mysum = 0\n",
    "\n",
    "for i in number:\n",
    "    mysum = sum +  int(i)\n",
    "\n",
    "print(mysum)"
   ]
  },
  {
   "cell_type": "markdown",
   "metadata": {},
   "source": [
    "# 변경 후"
   ]
  },
  {
   "cell_type": "code",
   "execution_count": null,
   "metadata": {},
   "outputs": [
    {
     "name": "stdout",
     "output_type": "stream",
     "text": [
      "15\n"
     ]
    }
   ],
   "source": [
    "n = int(input())\n",
    "numbers = list(map(int, input()))\n",
    "mysum = 0\n",
    "\n",
    "for i in range(n):\n",
    "    mysum += numbers[i]\n",
    "\n",
    "print(mysum)"
   ]
  },
  {
   "attachments": {},
   "cell_type": "markdown",
   "metadata": {},
   "source": [
    "## 평균 - 백준온라인 1546"
   ]
  },
  {
   "cell_type": "code",
   "execution_count": null,
   "metadata": {},
   "outputs": [
    {
     "name": "stdout",
     "output_type": "stream",
     "text": [
      "75.0\n"
     ]
    }
   ],
   "source": [
    "n = int(input())    # 과목 수\n",
    "mytest = list(map(int, input().split()))  # 점수 다 받기\n",
    "# 숫자로 된 애들을 리스트로 받을 때는 map으로 받아야 형변환하기 쉬움\n",
    "max_point = max(mytest)    # 성적 중 최대 점수\n",
    "test_sum = 0    # sum 함수 써도 됌\n",
    "\n",
    "for i in mytest:\n",
    "    test_sum += i\n",
    "\n",
    "print(test_sum * 100 / max_point / n)   # 평균 구하기"
   ]
  },
  {
   "attachments": {},
   "cell_type": "markdown",
   "metadata": {},
   "source": [
    "### 구간 합 구하기 4 - 백준 "
   ]
  },
  {
   "cell_type": "code",
   "execution_count": 3,
   "metadata": {},
   "outputs": [
    {
     "ename": "ValueError",
     "evalue": "invalid literal for int() with base 10: ''",
     "output_type": "error",
     "traceback": [
      "\u001b[1;31m---------------------------------------------------------------------------\u001b[0m",
      "\u001b[1;31mValueError\u001b[0m                                Traceback (most recent call last)",
      "Cell \u001b[1;32mIn[3], line 3\u001b[0m\n\u001b[0;32m      1\u001b[0m \u001b[39m# 입력 속도를 개선! 단, 주피터 노트북에서는 실행 불가\u001b[39;00m\n\u001b[1;32m----> 3\u001b[0m suNo, quizNo \u001b[39m=\u001b[39m \u001b[39mtuple\u001b[39;49m(\u001b[39mmap\u001b[39;49m(\u001b[39mint\u001b[39;49m, \u001b[39minput\u001b[39;49m()\u001b[39m.\u001b[39;49msplit(\u001b[39m'\u001b[39;49m\u001b[39m \u001b[39;49m\u001b[39m'\u001b[39;49m)))\n\u001b[0;32m      4\u001b[0m numbers \u001b[39m=\u001b[39m \u001b[39mlist\u001b[39m(\u001b[39mmap\u001b[39m(\u001b[39mint\u001b[39m, \u001b[39minput\u001b[39m()\u001b[39m.\u001b[39msplit()))\n\u001b[0;32m      5\u001b[0m prefix_sum \u001b[39m=\u001b[39m [\u001b[39m0\u001b[39m]    \u001b[39m# 중요! 배열 0번째 인덱스 핵심!\u001b[39;00m\n",
      "\u001b[1;31mValueError\u001b[0m: invalid literal for int() with base 10: ''"
     ]
    }
   ],
   "source": [
    "# 입력 속도를 개선! 단, 주피터 노트북에서는 실행 불가\n",
    "# import sys\n",
    "# input = sys.stdin.readline\n",
    "\n",
    "suNo, quizNo = tuple(map(int, input().split(' ')))\n",
    "numbers = list(map(int, input().split()))\n",
    "prefix_sum = [0]    # 중요! 배열 0번째 인덱스 핵심!\n",
    "temp = 0\n",
    "\n",
    "for i in range(suNo):\n",
    "    temp += numbers[i]  # temp 5 9 12 14 15\n",
    "    prefix_sum.append(temp)\n",
    "    # [0, 5, 9, 12, 14, 15]\n",
    "print(temp)\n",
    "\n",
    "for j in range(quizNo):\n",
    "    s, e = tuple(map(int, input().split()))\n",
    "    print(prefix_sum[e] - prefix_sum[s - 1])"
   ]
  },
  {
   "cell_type": "code",
   "execution_count": null,
   "metadata": {},
   "outputs": [],
   "source": []
  }
 ],
 "metadata": {
  "kernelspec": {
   "display_name": "Python 3",
   "language": "python",
   "name": "python3"
  },
  "language_info": {
   "codemirror_mode": {
    "name": "ipython",
    "version": 3
   },
   "file_extension": ".py",
   "mimetype": "text/x-python",
   "name": "python",
   "nbconvert_exporter": "python",
   "pygments_lexer": "ipython3",
   "version": "3.11.1"
  },
  "orig_nbformat": 4,
  "vscode": {
   "interpreter": {
    "hash": "71b1b81ffc27d97be07a3b3747d87f3fa31f943afac0b672ba5feabfb5da68fc"
   }
  }
 },
 "nbformat": 4,
 "nbformat_minor": 2
}

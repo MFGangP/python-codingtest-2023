{
 "cells": [
  {
   "attachments": {},
   "cell_type": "markdown",
   "metadata": {},
   "source": [
    "## 선택 정렬"
   ]
  },
  {
   "attachments": {},
   "cell_type": "markdown",
   "metadata": {},
   "source": [
    "### 최소값 위치 확인 함수"
   ]
  },
  {
   "cell_type": "code",
   "execution_count": 63,
   "metadata": {},
   "outputs": [],
   "source": [
    "def findMinIdx(ary):\n",
    "    minIdx = 0 # 배열 0부터 시작하니\n",
    "    for i in range(1, len(ary)):\n",
    "        if ary[minIdx] > ary[i]:  \n",
    "            # 지정된 값이 배열에 현재 값 보다 크면 Min이 아님\n",
    "            minIdx = i  # 인덱스 번호 리턴\n",
    "    return minIdx   # 다 바꾸고나면 최소값 인덱스 번호 리턴"
   ]
  },
  {
   "cell_type": "code",
   "execution_count": 64,
   "metadata": {},
   "outputs": [
    {
     "name": "stdout",
     "output_type": "stream",
     "text": [
      "4\n"
     ]
    }
   ],
   "source": [
    "tests = [55, 88, 33, 77, 10]\n",
    "\n",
    "print(findMinIdx(tests))"
   ]
  },
  {
   "cell_type": "code",
   "execution_count": 65,
   "metadata": {},
   "outputs": [],
   "source": [
    "def findMinIdx2(ary):\n",
    "    minIdx = -1 # -1이면 맨 뒤 부터 시작해서 안된다\n",
    "    for i, _ in enumerate(ary):\n",
    "        if ary[minIdx] > ary[i]:\n",
    "            minIdx = i\n",
    "    return minIdx"
   ]
  },
  {
   "cell_type": "code",
   "execution_count": 66,
   "metadata": {},
   "outputs": [
    {
     "name": "stdout",
     "output_type": "stream",
     "text": [
      "-1\n"
     ]
    }
   ],
   "source": [
    "print(findMinIdx2(tests))"
   ]
  },
  {
   "cell_type": "markdown",
   "metadata": {},
   "source": [
    "### 선택 정렬 전체"
   ]
  },
  {
   "cell_type": "code",
   "execution_count": 67,
   "metadata": {},
   "outputs": [
    {
     "name": "stdout",
     "output_type": "stream",
     "text": [
      "정렬전 --> [188, 162, 168, 120, 50, 150, 177, 105]\n",
      "정렬후 --> [50, 105, 120, 150, 162, 168, 177, 188]\n"
     ]
    }
   ],
   "source": [
    "# 변수 선언\n",
    "before = [188, 162, 168, 120, 50, 150, 177, 105]\n",
    "after = []\n",
    "\n",
    "print('정렬전 -->', before)\n",
    "for _ in range(len(before)):    # before 개수만큼 반복\n",
    "    minPos = findMinIdx(before) # 최소값 찾기\n",
    "    after.append(before[minPos])# 최소값 찾아서 빈 리스트에 추가\n",
    "    del(before[minPos]) # 추가한 인덱스는 삭제\n",
    "print('정렬후 -->', after)"
   ]
  },
  {
   "cell_type": "code",
   "execution_count": 68,
   "metadata": {},
   "outputs": [],
   "source": [
    "import random\n",
    "\n",
    "databank = []\n",
    "\n",
    "for i in range(0,10000):\n",
    "    databank.append(random.randint(0,10000))"
   ]
  },
  {
   "cell_type": "markdown",
   "metadata": {},
   "source": [
    "#### 개선된 선택정렬"
   ]
  },
  {
   "cell_type": "code",
   "execution_count": 69,
   "metadata": {},
   "outputs": [],
   "source": [
    "def selectionSort(ary):\n",
    "    n = len(ary)\n",
    "    for i in range(0, n-1): # 마지막 인덱스 n-2\n",
    "        minIdx = i  # 작은 수의 인덱스 번호를 minIdx에다가 던져줄게\n",
    "        for k in range(i+1, n): # 마지막 인덱스 n-1\n",
    "            if ary[minIdx] > ary[k]: # n, n+1이랑 비교했는데 값이 더 크면\n",
    "                minIdx = k  # 작은 값의 인덱스를 minIdx에 던져주고\n",
    "        # 여기부터는 자리 바꾸기\n",
    "        # tmp = ary[i]    # 임시값에 ary[0]번 값을 넣고\n",
    "        # ary[i] = ary[minIdx] # 최소값으로 변경 ary[0]번에 최소값 삽입\n",
    "        # ary[minIdx] = tmp # 최소값 있던 자리에 ary[0]값 자리변경\n",
    "        \n",
    "        ary[i], ary[minIdx] = ary[minIdx], ary[i] # 신식 방법 위랑 똑같음\n",
    "\n",
    "    return ary # 배열 리턴 굳이 리턴 안해도 값 자체를 바꾼거라서 괜춘"
   ]
  },
  {
   "cell_type": "code",
   "execution_count": 70,
   "metadata": {},
   "outputs": [
    {
     "name": "stdout",
     "output_type": "stream",
     "text": [
      "정렬 전 -->  [188, 162, 168, 120, 50, 150, 177, 105]\n",
      "정렬 후 --> [50, 105, 120, 150, 162, 168, 177, 188]\n"
     ]
    }
   ],
   "source": [
    "dataAry = [188, 162, 168, 120, 50, 150, 177, 105]\n",
    "\n",
    "print('정렬 전 --> ', dataAry)\n",
    "dataAry = selectionSort(dataAry)\n",
    "print('정렬 후 -->', dataAry)"
   ]
  },
  {
   "attachments": {},
   "cell_type": "markdown",
   "metadata": {},
   "source": [
    "### 삽입정렬 Insertion Sort\n",
    "\n",
    "#### 자신의 삽입 위치를 찾는 함수"
   ]
  },
  {
   "cell_type": "code",
   "execution_count": 71,
   "metadata": {},
   "outputs": [],
   "source": [
    "def findInsertIdx(ary, data):\n",
    "    findIdx = -1 # \n",
    "    for i in range(0, len(ary)): # 0부터 시작\n",
    "        if ary[i] > data:   # 넣을 데이터랑 인덱스 0번이랑 비교했을 때\n",
    "            findIdx = i # 0번이 더 크면 findIdx에 삽입\n",
    "            break\n",
    "    if findIdx == -1:   # 데이터를 못찾았으면\n",
    "        return len(ary) # 다시 처음부터 시작\n",
    "    else : \n",
    "        return findIdx  # 찾았으면 값 반환"
   ]
  },
  {
   "cell_type": "code",
   "execution_count": 72,
   "metadata": {},
   "outputs": [
    {
     "name": "stdout",
     "output_type": "stream",
     "text": [
      "삽입할 위치 -->  0\n",
      "삽입할 위치 -->  1\n",
      "삽입할 위치 -->  4\n"
     ]
    }
   ],
   "source": [
    "testAry = []\n",
    "print('삽입할 위치 --> ',findInsertIdx(testAry, 50))\n",
    "testAry = [33, 60, 54, 77, 88]\n",
    "print('삽입할 위치 --> ',findInsertIdx(testAry, 50))\n",
    "testAry = [33, 55, 77, 88]\n",
    "print('삽입할 위치 --> ',findInsertIdx(testAry, 100))"
   ]
  },
  {
   "cell_type": "code",
   "execution_count": 73,
   "metadata": {},
   "outputs": [
    {
     "name": "stdout",
     "output_type": "stream",
     "text": [
      "정렬 전 -->  [188, 162, 168, 120, 50, 150, 177, 105]\n",
      "정렬 후 --> [50, 105, 120, 150, 162, 168, 177, 188]\n",
      "원본 -->  [188, 162, 168, 120, 50, 150, 177, 105]\n"
     ]
    }
   ],
   "source": [
    "before = [188, 162, 168, 120, 50, 150, 177, 105]\n",
    "after = []\n",
    "\n",
    "print('정렬 전 --> ', before)\n",
    "for i in range(len(before)): # before 길이만큼 반복\n",
    "    data = before[i]    # 데이터에 before 값 임시 저장\n",
    "    idx = findInsertIdx(after, data) # 처음에는 비어있음\n",
    "    # \n",
    "    after.insert(idx, data)\n",
    "print('정렬 후 -->', after)\n",
    "print('원본 --> ', before)"
   ]
  },
  {
   "cell_type": "code",
   "execution_count": 74,
   "metadata": {},
   "outputs": [
    {
     "name": "stdout",
     "output_type": "stream",
     "text": [
      "정렬 전 -->  [188, 162, 168, 120, 50, 150, 177, 105]\n",
      "정렬 후 -->  [50, 105, 120, 150, 162, 168, 177, 188]\n"
     ]
    }
   ],
   "source": [
    "def insertionSort(ary):\n",
    "    n = len(ary) # n에 길이 저장\n",
    "    for end in range(1, n): # 인덱스 1번부터 비교 시작\n",
    "        for cur in range(end,0,-1): # 0번이랑 1번 비교해서 자리 교환 시작\n",
    "            # 파이썬은 임시값 안만들어도 두개 확 바꿔버릴수 있다.\n",
    "            # 튜플이 생겼기 때문이다\n",
    "            if ary[cur-1] > ary[cur]:   # 비교해서 작은 값을 찾았으면\n",
    "                ary[cur-1], ary[cur] = ary[cur], ary[cur-1] # 자리 변경\n",
    "                # 이거 두개는 같다\n",
    "                # tmp = ary[cur-1]\n",
    "                # ary[cur-1] = ary[cur]\n",
    "                # ary[cur] = tmp\n",
    "    return ary\n",
    "\n",
    "dataAry = [188, 162, 168, 120, 50, 150, 177, 105]\n",
    "\n",
    "print('정렬 전 --> ', dataAry)\n",
    "dataAry = insertionSort(dataAry)\n",
    "print('정렬 후 --> ', dataAry)"
   ]
  },
  {
   "attachments": {},
   "cell_type": "markdown",
   "metadata": {},
   "source": [
    "### 버블 정렬 (Bubble Sort)"
   ]
  },
  {
   "cell_type": "code",
   "execution_count": 75,
   "metadata": {},
   "outputs": [
    {
     "name": "stdout",
     "output_type": "stream",
     "text": [
      "정렬 전 -->  [190, 162, 168, 120, 50, 150, 177, 105]\n",
      "정렬 후 -->  [50, 105, 120, 150, 162, 168, 177, 190]\n"
     ]
    }
   ],
   "source": [
    "def BubbleSort(ary):\n",
    "    n = len(ary)\n",
    "    for end in range(n-1, 0, -1):   # n-1 번째 부터 0까지 역순\n",
    "        # print('사이클# --', ary)    \n",
    "        # 이미 뒤쪽에 애들이 정렬이 됐으니까 거꾸로 도는게 마따\n",
    "        # 밀어서 뒤쪽에 채워넣었으니까!!! \n",
    "        for cur in range(0, end):   # 0 부터 n-2까지 반복\n",
    "            if ary[cur] > ary[cur+1] :\n",
    "                ary[cur], ary[cur+1] =  ary[cur+1], ary[cur]\n",
    "    return ary\n",
    "\n",
    "dataAry = [190, 162, 168, 120, 50, 150, 177, 105]\n",
    "\n",
    "print('정렬 전 --> ', dataAry)\n",
    "dataAry = BubbleSort(dataAry)\n",
    "print('정렬 후 --> ', dataAry)\n",
    "# 10000개 5.7"
   ]
  },
  {
   "cell_type": "markdown",
   "metadata": {},
   "source": [
    "### 퀵 정렬(Quick Sort)"
   ]
  },
  {
   "cell_type": "code",
   "execution_count": null,
   "metadata": {},
   "outputs": [],
   "source": [
    "def quickSort(ary):\n",
    "    n = len(ary)\n",
    "    if n <= 1:  # 만약 정렬 개수가 1개 이하면 그대로 출력\n",
    "        return ary\n",
    "    \n",
    "    pivot = ary[n//2] # 중간 값을 기준값으로 설정\n",
    "    leftAry, rightAry, midAry = [], [], []\n",
    "\n",
    "    for num in ary: # 배열 돌면서\n",
    "        if num < pivot: # 만약 숫자가 기준값 보다 작으면\n",
    "            leftAry.append(num)# 왼쪽에 넣고\n",
    "        elif num > pivot:# 숫자가 기준 값보다 크면\n",
    "            rightAry.append(num)# 오른쪽에 넣는다\n",
    "        else:\n",
    "            midAry.append(num)# 중복을 고려해서 넣는다.\n",
    "        # 중복값이 있으면 중복 값을 없애버림 (기존 퀵 정렬의 문제점)\n",
    "\n",
    "    # 그리고 다 되면 하나로 합쳐버리기\n",
    "    return quickSort(leftAry) + midAry + quickSort(rightAry)\n",
    "    # 재귀함수 반복하면서 원소 단위로 쪼개지면서 수행\n",
    "\n",
    "dataAry = [190, 162, 168, 120, 50, 150, 177, 105, 120]\n",
    "\n",
    "print('정렬 전 --> ', dataAry)\n",
    "dataAry = quickSort(dataAry)\n",
    "print('정렬 후 --> ', dataAry)"
   ]
  },
  {
   "cell_type": "markdown",
   "metadata": {},
   "source": [
    "### 리스트 정렬"
   ]
  },
  {
   "cell_type": "code",
   "execution_count": 1,
   "metadata": {},
   "outputs": [],
   "source": [
    "import random\n",
    "\n",
    "databank = []\n",
    "\n",
    "for i in range(0,10000):\n",
    "    databank.append(random.randint(0,10000))"
   ]
  },
  {
   "cell_type": "code",
   "execution_count": 4,
   "metadata": {},
   "outputs": [],
   "source": [
    "databank.sort()             #오름차순\n",
    "databank.sort(reverse=True) #내림차순\n",
    "# 기본 정렬 존재\n",
    "# 얘는 값을 리턴"
   ]
  },
  {
   "cell_type": "code",
   "execution_count": null,
   "metadata": {},
   "outputs": [],
   "source": [
    "databank"
   ]
  },
  {
   "cell_type": "code",
   "execution_count": null,
   "metadata": {},
   "outputs": [],
   "source": [
    "values = sorted(databank, reverse=False)\n",
    "# 값을 정렬해서 저장\n",
    "values"
   ]
  }
 ],
 "metadata": {
  "kernelspec": {
   "display_name": "Python 3",
   "language": "python",
   "name": "python3"
  },
  "language_info": {
   "codemirror_mode": {
    "name": "ipython",
    "version": 3
   },
   "file_extension": ".py",
   "mimetype": "text/x-python",
   "name": "python",
   "nbconvert_exporter": "python",
   "pygments_lexer": "ipython3",
   "version": "3.11.1"
  },
  "orig_nbformat": 4,
  "vscode": {
   "interpreter": {
    "hash": "71b1b81ffc27d97be07a3b3747d87f3fa31f943afac0b672ba5feabfb5da68fc"
   }
  }
 },
 "nbformat": 4,
 "nbformat_minor": 2
}

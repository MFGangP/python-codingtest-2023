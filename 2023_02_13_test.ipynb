{
 "cells": [
  {
   "attachments": {},
   "cell_type": "markdown",
   "metadata": {},
   "source": [
    "## 1번"
   ]
  },
  {
   "cell_type": "code",
   "execution_count": 1,
   "metadata": {},
   "outputs": [
    {
     "name": "stdout",
     "output_type": "stream",
     "text": [
      "지름은 78.54입니다.(소수점 2째 자리수 반올림한 결과)\n"
     ]
    }
   ],
   "source": [
    "from math import pi\n",
    "\n",
    "try:\n",
    "    radius = int(input('반지름을 입력 해주세요 : '))\n",
    "    result = radius * radius * pi\n",
    "    print(f'지름은 {result:.2f}입니다.(소수점 2째 자리수 반올림한 결과)')\n",
    "\n",
    "except Exception as e:\n",
    "    print('올바른 값(숫자)을 입력해주세요! 프로그램을 종료합니다.')"
   ]
  },
  {
   "attachments": {},
   "cell_type": "markdown",
   "metadata": {},
   "source": [
    "## 2번"
   ]
  },
  {
   "cell_type": "code",
   "execution_count": 2,
   "metadata": {},
   "outputs": [
    {
     "name": "stdout",
     "output_type": "stream",
     "text": [
      "화성\n"
     ]
    }
   ],
   "source": [
    "planet = {'Mercury' : '수성', 'Venus' : '금성', 'Earth' : '지구', 'Mars' : '화성', 'Jupiter' : '목성', 'Saturn' : '토성', 'Uranus' : '천왕성' ,'Neptune' : '해왕성'}\n",
    "\n",
    "try:\n",
    "    textInput = str(input('행성 이름을 입력해주세요 (영어로 입력 바람) : '))\n",
    "    print(planet[textInput])\n",
    "\n",
    "except Exception as e:\n",
    "    print('행성 이름(영어)을 입력해주세요! 프로그램을 종료합니다.')"
   ]
  },
  {
   "attachments": {},
   "cell_type": "markdown",
   "metadata": {},
   "source": [
    "## 3번"
   ]
  },
  {
   "cell_type": "code",
   "execution_count": 3,
   "metadata": {},
   "outputs": [
    {
     "name": "stdout",
     "output_type": "stream",
     "text": [
      "s S s S s S s S\n"
     ]
    }
   ],
   "source": [
    "try:\n",
    "    textInput = str(input('문장을 입력해주세요 : ')).split(' ')\n",
    "    result = [] \n",
    "    for i in range(len(textInput)):\n",
    "        if i % 2 == 0:\n",
    "            result.append(str(textInput[i].lower()))\n",
    "        else:\n",
    "            result.append(str(textInput[i].upper()))\n",
    "    print(' '.join(result))\n",
    "\n",
    "except Exception as e:\n",
    "   print('올바른 문장을 입력해주세요! 프로그램을 종료합니다.')\n"
   ]
  },
  {
   "attachments": {},
   "cell_type": "markdown",
   "metadata": {},
   "source": [
    "## 4번"
   ]
  },
  {
   "cell_type": "code",
   "execution_count": 4,
   "metadata": {},
   "outputs": [
    {
     "name": "stdout",
     "output_type": "stream",
     "text": [
      "5 5 5 5 5 5 5 5\n"
     ]
    }
   ],
   "source": [
    "try:\n",
    "    intInput = input('숫자를 입력해주세요 : ').split(' ')\n",
    "    result = list(intInput)\n",
    "    result.reverse()\n",
    "    print(' '.join(result))\n",
    "\n",
    "except Exception as e:\n",
    "   print('프로그램을 종료합니다.')"
   ]
  },
  {
   "attachments": {},
   "cell_type": "markdown",
   "metadata": {},
   "source": [
    "## 5번"
   ]
  },
  {
   "cell_type": "code",
   "execution_count": 5,
   "metadata": {},
   "outputs": [
    {
     "name": "stdout",
     "output_type": "stream",
     "text": [
      "5 10 15 20 25 30 35 40 45\n"
     ]
    }
   ],
   "source": [
    "try:\n",
    "    inputNum = int(input('숫자를 입력하세요 : '))\n",
    "    result = []\n",
    "\n",
    "    for i in range(1, 10):\n",
    "        result.append(inputNum * i)\n",
    "\n",
    "    print(' '.join(map(str, result)))\n",
    "\n",
    "except Exception as e:\n",
    "   print('숫자를 입력해주세요. 프로그램을 종료합니다.')"
   ]
  }
 ],
 "metadata": {
  "kernelspec": {
   "display_name": "Python 3",
   "language": "python",
   "name": "python3"
  },
  "language_info": {
   "codemirror_mode": {
    "name": "ipython",
    "version": 3
   },
   "file_extension": ".py",
   "mimetype": "text/x-python",
   "name": "python",
   "nbconvert_exporter": "python",
   "pygments_lexer": "ipython3",
   "version": "3.11.1"
  },
  "orig_nbformat": 4,
  "vscode": {
   "interpreter": {
    "hash": "71b1b81ffc27d97be07a3b3747d87f3fa31f943afac0b672ba5feabfb5da68fc"
   }
  }
 },
 "nbformat": 4,
 "nbformat_minor": 2
}

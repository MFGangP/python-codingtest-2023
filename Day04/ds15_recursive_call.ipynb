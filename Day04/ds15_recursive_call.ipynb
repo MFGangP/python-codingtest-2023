{
 "cells": [
  {
   "cell_type": "markdown",
   "metadata": {},
   "source": [
    "## 재귀호출 (Recursive Call)"
   ]
  },
  {
   "cell_type": "code",
   "execution_count": 1,
   "metadata": {},
   "outputs": [],
   "source": [
    "def openBox():\n",
    "    print('상자를 엽니다')\n",
    "\n",
    "   # openBox()"
   ]
  },
  {
   "cell_type": "code",
   "execution_count": 2,
   "metadata": {},
   "outputs": [],
   "source": [
    "# openBox()\n",
    "\n",
    "# 함수 호출은 메모리가 꽉 차서 뻗을 수가 있음"
   ]
  },
  {
   "cell_type": "code",
   "execution_count": 3,
   "metadata": {},
   "outputs": [],
   "source": [
    "count = 10\n",
    "\n",
    "def openBox():\n",
    "    global count\n",
    "    print('상자를 엽니다')\n",
    "    count -= 1  # 얘 위치 때문에 햇갈릴 수 있다.\n",
    "    # 비유를 하자면 한대 먼저 턱에 라이트 훅을 맞고 시작하는 경기(?)\n",
    "    # 밑에 있었으면 같이 10번 실행 됐을텐데 이미 한대를 맞았으니 9번 나올 수 밖에\n",
    "    if count <= 0:\n",
    "        print('반지를 넣고 반환합니다.')\n",
    "        return  # 함수 끝 [낭나해 불렀던데로 돌아갈거야]\n",
    "    openBox()\n",
    "    print('종이 상자를 닫습니다.')\n",
    "    # 함수 안에 함수 안에 함수 안에 함수 안에 함수 안에 한무반복 "
   ]
  },
  {
   "cell_type": "code",
   "execution_count": 4,
   "metadata": {},
   "outputs": [
    {
     "name": "stdout",
     "output_type": "stream",
     "text": [
      "상자를 엽니다\n",
      "상자를 엽니다\n",
      "상자를 엽니다\n",
      "상자를 엽니다\n",
      "상자를 엽니다\n",
      "상자를 엽니다\n",
      "상자를 엽니다\n",
      "상자를 엽니다\n",
      "상자를 엽니다\n",
      "상자를 엽니다\n",
      "반지를 넣고 반환합니다.\n",
      "종이 상자를 닫습니다.\n",
      "종이 상자를 닫습니다.\n",
      "종이 상자를 닫습니다.\n",
      "종이 상자를 닫습니다.\n",
      "종이 상자를 닫습니다.\n",
      "종이 상자를 닫습니다.\n",
      "종이 상자를 닫습니다.\n",
      "종이 상자를 닫습니다.\n",
      "종이 상자를 닫습니다.\n"
     ]
    }
   ],
   "source": [
    "openBox()"
   ]
  },
  {
   "attachments": {},
   "cell_type": "markdown",
   "metadata": {},
   "source": [
    "## 재귀호출 하지않고 반복문으로 계산"
   ]
  },
  {
   "cell_type": "code",
   "execution_count": 5,
   "metadata": {},
   "outputs": [
    {
     "name": "stdout",
     "output_type": "stream",
     "text": [
      "10+9+8....+1 =  55\n"
     ]
    }
   ],
   "source": [
    "sumValue = 0\n",
    "\n",
    "for n in range(10, 0, -1):\n",
    "    sumValue += n\n",
    "\n",
    "print('10+9+8....+1 = ', sumValue)"
   ]
  },
  {
   "cell_type": "code",
   "execution_count": 6,
   "metadata": {},
   "outputs": [
    {
     "name": "stdout",
     "output_type": "stream",
     "text": [
      "55\n"
     ]
    }
   ],
   "source": [
    "def addNumber(num):\n",
    "    if num <= 1:\n",
    "        return 1\n",
    "    else:\n",
    "        return num + addNumber(num -1)\n",
    "\n",
    "print(addNumber(10))"
   ]
  },
  {
   "attachments": {},
   "cell_type": "markdown",
   "metadata": {},
   "source": [
    "### 팩토리얼 반복문"
   ]
  },
  {
   "cell_type": "code",
   "execution_count": 7,
   "metadata": {},
   "outputs": [
    {
     "name": "stdout",
     "output_type": "stream",
     "text": [
      "10*9*8...*2*1 =  3628800\n"
     ]
    }
   ],
   "source": [
    "factValue = 1\n",
    "for n in range(10, 0, -1):\n",
    "    factValue *= n\n",
    "\n",
    "print('10*9*8...*2*1 = ', factValue)"
   ]
  },
  {
   "cell_type": "code",
   "execution_count": 8,
   "metadata": {},
   "outputs": [
    {
     "name": "stdout",
     "output_type": "stream",
     "text": [
      "!10 = 3628800\n"
     ]
    }
   ],
   "source": [
    "def factorial(val):\n",
    "    if val <= 1:\n",
    "        return 1\n",
    "    return val * factorial(val-1)\n",
    "\n",
    "print(f'!10 = {factorial(10)}')"
   ]
  },
  {
   "attachments": {},
   "cell_type": "markdown",
   "metadata": {},
   "source": [
    "### 우주선 발사"
   ]
  },
  {
   "cell_type": "code",
   "execution_count": 9,
   "metadata": {},
   "outputs": [],
   "source": [
    "import time"
   ]
  },
  {
   "cell_type": "code",
   "execution_count": 10,
   "metadata": {},
   "outputs": [
    {
     "name": "stdout",
     "output_type": "stream",
     "text": [
      "10\n",
      "9\n",
      "8\n",
      "7\n",
      "6\n",
      "5\n",
      "4\n",
      "3\n",
      "2\n",
      "1\n",
      "발사\n"
     ]
    }
   ],
   "source": [
    "def countDown(n):\n",
    "    if n == 0:\n",
    "        print('발사')\n",
    "    else:\n",
    "        print(n)\n",
    "        time.sleep(1)\n",
    "        countDown(n-1)\n",
    "\n",
    "countDown(10)"
   ]
  },
  {
   "cell_type": "code",
   "execution_count": 11,
   "metadata": {},
   "outputs": [
    {
     "name": "stdout",
     "output_type": "stream",
     "text": [
      "★★★★★\n",
      "★★★★\n",
      "★★★\n",
      "★★\n",
      "★\n"
     ]
    }
   ],
   "source": [
    "def printStar(n):\n",
    "    if n > 0:\n",
    "        print('★'* n)\n",
    "        printStar(n-1)\n",
    "\n",
    "printStar(5)"
   ]
  },
  {
   "cell_type": "code",
   "execution_count": 12,
   "metadata": {},
   "outputs": [
    {
     "name": "stdout",
     "output_type": "stream",
     "text": [
      "##2단##\n",
      "2 x 1 = 2\n",
      "2 x 2 = 4\n",
      "2 x 3 = 6\n",
      "2 x 4 = 8\n",
      "2 x 5 = 10\n",
      "2 x 6 = 12\n",
      "2 x 7 = 14\n",
      "2 x 8 = 16\n",
      "2 x 9 = 18\n",
      "##3단##\n",
      "3 x 1 = 3\n",
      "3 x 2 = 6\n",
      "3 x 3 = 9\n",
      "3 x 4 = 12\n",
      "3 x 5 = 15\n",
      "3 x 6 = 18\n",
      "3 x 7 = 21\n",
      "3 x 8 = 24\n",
      "3 x 9 = 27\n",
      "##4단##\n",
      "4 x 1 = 4\n",
      "4 x 2 = 8\n",
      "4 x 3 = 12\n",
      "4 x 4 = 16\n",
      "4 x 5 = 20\n",
      "4 x 6 = 24\n",
      "4 x 7 = 28\n",
      "4 x 8 = 32\n",
      "4 x 9 = 36\n",
      "##5단##\n",
      "5 x 1 = 5\n",
      "5 x 2 = 10\n",
      "5 x 3 = 15\n",
      "5 x 4 = 20\n",
      "5 x 5 = 25\n",
      "5 x 6 = 30\n",
      "5 x 7 = 35\n",
      "5 x 8 = 40\n",
      "5 x 9 = 45\n",
      "##6단##\n",
      "6 x 1 = 6\n",
      "6 x 2 = 12\n",
      "6 x 3 = 18\n",
      "6 x 4 = 24\n",
      "6 x 5 = 30\n",
      "6 x 6 = 36\n",
      "6 x 7 = 42\n",
      "6 x 8 = 48\n",
      "6 x 9 = 54\n",
      "##7단##\n",
      "7 x 1 = 7\n",
      "7 x 2 = 14\n",
      "7 x 3 = 21\n",
      "7 x 4 = 28\n",
      "7 x 5 = 35\n",
      "7 x 6 = 42\n",
      "7 x 7 = 49\n",
      "7 x 8 = 56\n",
      "7 x 9 = 63\n",
      "##8단##\n",
      "8 x 1 = 8\n",
      "8 x 2 = 16\n",
      "8 x 3 = 24\n",
      "8 x 4 = 32\n",
      "8 x 5 = 40\n",
      "8 x 6 = 48\n",
      "8 x 7 = 56\n",
      "8 x 8 = 64\n",
      "8 x 9 = 72\n",
      "##9단##\n",
      "9 x 1 = 9\n",
      "9 x 2 = 18\n",
      "9 x 3 = 27\n",
      "9 x 4 = 36\n",
      "9 x 5 = 45\n",
      "9 x 6 = 54\n",
      "9 x 7 = 63\n",
      "9 x 8 = 72\n",
      "9 x 9 = 81\n"
     ]
    }
   ],
   "source": [
    "def gugudan(gugu, dan):\n",
    "    print(f'{gugu} x {dan} = {gugu*dan}')\n",
    "    if dan < 9:\n",
    "        gugudan(gugu, dan+1)\n",
    "\n",
    "for gugu in range(2, 10):\n",
    "    print(f'##{gugu}단##')\n",
    "    gugudan(gugu, 1)"
   ]
  },
  {
   "attachments": {},
   "cell_type": "markdown",
   "metadata": {},
   "source": [
    "## N 제곱"
   ]
  },
  {
   "cell_type": "code",
   "execution_count": 13,
   "metadata": {},
   "outputs": [
    {
     "name": "stdout",
     "output_type": "stream",
     "text": [
      "2^10\n",
      "  2x2^10-1\n",
      "   2x2^9-1\n",
      "    2x2^8-1\n",
      "     2x2^7-1\n",
      "      2x2^6-1\n",
      "       2x2^5-1\n",
      "        2x2^4-1\n",
      "         2x2^3-1\n",
      "          2x2^2-1\n",
      "           2x2^1-1\n",
      "답 -->  1024\n"
     ]
    }
   ],
   "source": [
    "tab = ''\n",
    "\n",
    "def pow(x, n):\n",
    "    global tab\n",
    "    tab += ' '\n",
    "    if n == 0 :\n",
    "        return 1\n",
    "    print(tab, f'{x}x{x}^{n}-{1}')\n",
    "    return x * pow(x, n-1)\n",
    "\n",
    "print('2^10')\n",
    "print('답 --> ', pow(2,10))"
   ]
  },
  {
   "cell_type": "code",
   "execution_count": 14,
   "metadata": {},
   "outputs": [
    {
     "name": "stdout",
     "output_type": "stream",
     "text": [
      "피보나치 수 --> 0 1 1 2 3 5 8 13 21 34 55 89 144 233 377 610 987 1597 2584 4181 6765 10946 17711 28657 46368 75025 121393 196418 317811 514229 832040 1346269 2178309 3524578 5702887 9227465 14930352 24157817 39088169 63245986 102334155 "
     ]
    }
   ],
   "source": [
    "def fibo(n):\n",
    "    if n == 0 or n == 1 or n == 2: return 1\n",
    "    else:\n",
    "        return fibo(n-1) + fibo(n-2)\n",
    "\n",
    "print('피보나치 수 --> 0 1', end=' ')\n",
    "for i in range(2, 41):\n",
    "    print(fibo(i), end=' ')"
   ]
  },
  {
   "attachments": {},
   "cell_type": "markdown",
   "metadata": {},
   "source": [
    "### 회문 여부"
   ]
  },
  {
   "cell_type": "code",
   "execution_count": 15,
   "metadata": {},
   "outputs": [
    {
     "name": "stdout",
     "output_type": "stream",
     "text": [
      "reaver --> X\n",
      "kayak --> 0\n",
      "Borrow or rob --> 0\n",
      "주유소의 소유주 --> 0\n",
      "야 너 이번 주 주번이 너야 --> 0\n",
      "살금 살금 --> X\n"
     ]
    }
   ],
   "source": [
    "def palindrom(pStr):\n",
    "    if len(pStr) <= 1: # \n",
    "        return True\n",
    "        # 중간에 남은 글자가 1보다 작거나 같으면 True \n",
    "        \n",
    "    if pStr[0] != pStr[-1]: # 첫번째 글자랑 마지막 첫번째 글자가 같지 않다면 False\n",
    "        return False\n",
    "\n",
    "    return palindrom(pStr[1:len(pStr)-1])        \n",
    "    # 그 다음 글자, 그 다음 끝 글자 같은지 값을 리턴해라\n",
    "strAry =  ['reaver', 'kayak', 'Borrow or rob', '주유소의 소유주', '야 너 이번 주 주번이 너야', '살금 살금']\n",
    "\n",
    "for testStr in strAry:\n",
    "    print(testStr, end=' --> ')\n",
    "    testStr = testStr.lower().replace(' ','')   # 소문자로 바꾸고 띄어쓰기 수정\n",
    "    if palindrom(testStr):  # 맞으면 0\n",
    "        print('0')\n",
    "    else:                   # 틀리면 X\n",
    "        print('X')"
   ]
  }
 ],
 "metadata": {
  "kernelspec": {
   "display_name": "Python 3",
   "language": "python",
   "name": "python3"
  },
  "language_info": {
   "codemirror_mode": {
    "name": "ipython",
    "version": 3
   },
   "file_extension": ".py",
   "mimetype": "text/x-python",
   "name": "python",
   "nbconvert_exporter": "python",
   "pygments_lexer": "ipython3",
   "version": "3.11.1"
  },
  "orig_nbformat": 4,
  "vscode": {
   "interpreter": {
    "hash": "71b1b81ffc27d97be07a3b3747d87f3fa31f943afac0b672ba5feabfb5da68fc"
   }
  }
 },
 "nbformat": 4,
 "nbformat_minor": 2
}

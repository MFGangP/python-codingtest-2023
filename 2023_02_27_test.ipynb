{
 "cells": [
  {
   "attachments": {},
   "cell_type": "markdown",
   "metadata": {},
   "source": [
    "## 1번 문제\n",
    "\n",
    "프로그래머스 Lev1. 카드 뭉치 "
   ]
  },
  {
   "cell_type": "code",
   "execution_count": 7,
   "metadata": {},
   "outputs": [
    {
     "name": "stdout",
     "output_type": "stream",
     "text": [
      "Yes\n",
      "No\n"
     ]
    }
   ],
   "source": [
    "def solution1(cards1, cards2, goal):\n",
    "    tmp = [' '] * len(goal)\n",
    "\n",
    "    cards1_stack = 0\n",
    "    cards2_stack = 0 \n",
    "    for i in range(len(goal)): \n",
    "            # 조건 순서 조심 \n",
    "            if len(cards1) > cards1_stack and cards1[cards1_stack] == goal[i]:\n",
    "                tmp[i] = cards1[cards1_stack]\n",
    "                cards1_stack += 1\n",
    "            elif len(cards2) > cards2_stack and cards2[cards2_stack] == goal[i]:\n",
    "            # card2 list index out of range 방지 and 구문\n",
    "                tmp[i] = cards2[cards2_stack]\n",
    "                cards2_stack += 1\n",
    "            else :\n",
    "                answer = 'No'\n",
    "                break\n",
    "    if tmp == goal:\n",
    "        answer = 'Yes'\n",
    "    else:\n",
    "        answer = 'No'                \n",
    "    return answer\n",
    "\n",
    "cards1 = [\"i\", \"drink\", \"water\"]\n",
    "cards2 = [\"want\", \"to\"]\n",
    "goal = [\"i\", \"want\", \"to\", \"drink\", \"water\"]\n",
    "\n",
    "print(solution1(cards1, cards2, goal)) # return Yes\n",
    "\n",
    "cards1 = [\"i\", \"water\", \"drink\"]\n",
    "cards2 = [\"want\", \"to\"]\n",
    "goal = [\"i\", \"want\", \"to\", \"drink\", \"water\"]\n",
    "\n",
    "print(solution1(cards1, cards2, goal)) # return No"
   ]
  },
  {
   "attachments": {},
   "cell_type": "markdown",
   "metadata": {},
   "source": [
    "## 2번 문제\n",
    "\n",
    "프로그래머스 Lev1. 체육복"
   ]
  },
  {
   "cell_type": "code",
   "execution_count": 6,
   "metadata": {},
   "outputs": [
    {
     "name": "stdout",
     "output_type": "stream",
     "text": [
      "5\n",
      "4\n",
      "2\n"
     ]
    }
   ],
   "source": [
    "def solution2(n, lost, reserve):\n",
    "    reserve_set = set(reserve) - set(lost) # 여벌 O - 체육복 X\n",
    "    lost_set = set(lost) - set(reserve) # 체육복 X - 여벌 O\n",
    "\n",
    "    for i in reserve_set:\n",
    "        if i - 1 in lost_set:\n",
    "            lost_set.remove(i - 1) # 왼쪽 - 오른쪽\n",
    "        elif i + 1 in lost_set:\n",
    "            lost_set.remove(i + 1) # 오른쪽 - 왼쪽\n",
    "\n",
    "    return n - len(lost_set)\n",
    "\n",
    "n = 5\n",
    "lost = [2, 4]\n",
    "reserve = [1,3,5]\n",
    "\n",
    "print(solution2(n, lost, reserve)) # return 5\n",
    "\n",
    "\n",
    "n = 5\n",
    "lost = [2, 4]\n",
    "reserve = [3]\n",
    "\n",
    "print(solution2(n, lost, reserve)) # return 4\n",
    "\n",
    "\n",
    "n = 3\n",
    "lost = [3]\n",
    "reserve = [1]\n",
    "\n",
    "print(solution2(n, lost, reserve)) # return 2"
   ]
  }
 ],
 "metadata": {
  "kernelspec": {
   "display_name": "Python 3",
   "language": "python",
   "name": "python3"
  },
  "language_info": {
   "codemirror_mode": {
    "name": "ipython",
    "version": 3
   },
   "file_extension": ".py",
   "mimetype": "text/x-python",
   "name": "python",
   "nbconvert_exporter": "python",
   "pygments_lexer": "ipython3",
   "version": "3.11.1"
  },
  "orig_nbformat": 4,
  "vscode": {
   "interpreter": {
    "hash": "71b1b81ffc27d97be07a3b3747d87f3fa31f943afac0b672ba5feabfb5da68fc"
   }
  }
 },
 "nbformat": 4,
 "nbformat_minor": 2
}

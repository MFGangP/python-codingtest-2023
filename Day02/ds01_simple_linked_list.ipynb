{
 "cells": [
  {
   "attachments": {},
   "cell_type": "markdown",
   "metadata": {},
   "source": [
    "## 단순 연결 리스트\n",
    "\n",
    "### 노드 생성"
   ]
  },
  {
   "cell_type": "code",
   "execution_count": 4,
   "metadata": {},
   "outputs": [],
   "source": [
    "class Node():\n",
    "    def __init__(self):\n",
    "        self.data = None    # 현재 값\n",
    "        self.link = None    # 다음 노드 가리킴\n",
    "\n",
    "    def __str__(self):\n",
    "        return f'{self.data}'"
   ]
  },
  {
   "cell_type": "code",
   "execution_count": 5,
   "metadata": {},
   "outputs": [
    {
     "name": "stdout",
     "output_type": "stream",
     "text": [
      "다현\n"
     ]
    }
   ],
   "source": [
    "node1 = Node()\n",
    "node1.data = '다현'\n",
    "print(node1)"
   ]
  },
  {
   "attachments": {},
   "cell_type": "markdown",
   "metadata": {},
   "source": [
    "## 두번째 노드 생성"
   ]
  },
  {
   "cell_type": "code",
   "execution_count": 6,
   "metadata": {},
   "outputs": [],
   "source": [
    "node2 = Node()\n",
    "node2.data = '정연'\n",
    "node1.link = node2 # 1번 노드의 링크에 두번째 노드를 연결"
   ]
  },
  {
   "attachments": {},
   "cell_type": "markdown",
   "metadata": {},
   "source": [
    "## 3번 노드부터 계속"
   ]
  },
  {
   "cell_type": "code",
   "execution_count": 7,
   "metadata": {},
   "outputs": [],
   "source": [
    "node3 = Node()\n",
    "node3.data = '쯔위'\n",
    "node2.link = node3\n",
    "\n",
    "node4 = Node()\n",
    "node4.data = '사나'\n",
    "node3.link = node4\n",
    "\n",
    "node5 = Node()\n",
    "node5.data = '지효'\n",
    "node4.link = node5"
   ]
  },
  {
   "attachments": {},
   "cell_type": "markdown",
   "metadata": {},
   "source": [
    "### 연결 리스트 출력"
   ]
  },
  {
   "cell_type": "code",
   "execution_count": 13,
   "metadata": {},
   "outputs": [
    {
     "name": "stdout",
     "output_type": "stream",
     "text": [
      "다현\n",
      "정연\n",
      "쯔위\n",
      "사나\n",
      "지효\n"
     ]
    }
   ],
   "source": [
    "print(node1.data)   # 노드 1의 데이터\n",
    "print(node1.link.data)   # 노드 2의 데이터\n",
    "print(node1.link.link.data)   # 노드 3의 데이터\n",
    "print(node1.link.link.link.data)   # 노드 4의 데이터\n",
    "print(node1.link.link.link.link.data)   # 노드 5의 데이터"
   ]
  },
  {
   "attachments": {},
   "cell_type": "markdown",
   "metadata": {},
   "source": [
    "### 연결 리스트 미사용 출력"
   ]
  },
  {
   "cell_type": "code",
   "execution_count": 14,
   "metadata": {},
   "outputs": [
    {
     "name": "stdout",
     "output_type": "stream",
     "text": [
      "다현->정연->쯔위->사나->지효->None\n"
     ]
    }
   ],
   "source": [
    "print(node1.data, end='->') # 노드 1의 데이터 = 다현\n",
    "print(node1.link, end='->') # 노드 1의 링크 = 정연\n",
    "print(node2.link, end='->') # 노드 2의 링크 = 쯔위\n",
    "print(node3.link, end='->') # 노드 3의 링크 = 사나\n",
    "print(node4.link, end='->') # 노트 4의 링크 = 지효\n",
    "print(node5.link)   # 노드 5의 링크 = None"
   ]
  },
  {
   "attachments": {},
   "cell_type": "markdown",
   "metadata": {},
   "source": [
    "### 연결 리스트 출력 함수"
   ]
  },
  {
   "cell_type": "code",
   "execution_count": 28,
   "metadata": {},
   "outputs": [
    {
     "name": "stdout",
     "output_type": "stream",
     "text": [
      "다현->정연->재남->사나->지효->None"
     ]
    }
   ],
   "source": [
    "current = node1\n",
    "print(current.data, end='->')\n",
    "while current.link != None:\n",
    "    current = current.link\n",
    "    if current.link == None:    \n",
    "        # 마지막 노드이면 뒤에 연결된 링크가 None이라고 표시\n",
    "        print(current.data, end='->None')\n",
    "    else:    \n",
    "        print(current.data, end='->')"
   ]
  },
  {
   "attachments": {},
   "cell_type": "markdown",
   "metadata": {},
   "source": [
    "### 연결리스트 새 노드 삽입 - 중간에 데이터 삽입"
   ]
  },
  {
   "cell_type": "code",
   "execution_count": 26,
   "metadata": {},
   "outputs": [],
   "source": [
    "newNode = Node()\n",
    "newNode.data = '재남'\n",
    "newNode.link = node2.link # 노드 2 링크를 뉴노드에 던져준다. node3\n",
    "node2.link = newNode    # 노드 2의 링크를 뉴 노드로 바꾼다. newNode"
   ]
  },
  {
   "attachments": {},
   "cell_type": "markdown",
   "metadata": {},
   "source": [
    "### 쯔위 노드 삭제"
   ]
  },
  {
   "cell_type": "code",
   "execution_count": 27,
   "metadata": {},
   "outputs": [],
   "source": [
    "newNode.link = node3.link   # node4(사나)"
   ]
  },
  {
   "attachments": {},
   "cell_type": "markdown",
   "metadata": {},
   "source": [
    "이걸로도 삭제는 되지만 메모리상에 쯔위의 노드 계속 남아있음."
   ]
  },
  {
   "cell_type": "code",
   "execution_count": 29,
   "metadata": {},
   "outputs": [],
   "source": [
    "del(node3)"
   ]
  }
 ],
 "metadata": {
  "kernelspec": {
   "display_name": "Python 3",
   "language": "python",
   "name": "python3"
  },
  "language_info": {
   "codemirror_mode": {
    "name": "ipython",
    "version": 3
   },
   "file_extension": ".py",
   "mimetype": "text/x-python",
   "name": "python",
   "nbconvert_exporter": "python",
   "pygments_lexer": "ipython3",
   "version": "3.11.1"
  },
  "orig_nbformat": 4,
  "vscode": {
   "interpreter": {
    "hash": "71b1b81ffc27d97be07a3b3747d87f3fa31f943afac0b672ba5feabfb5da68fc"
   }
  }
 },
 "nbformat": 4,
 "nbformat_minor": 2
}

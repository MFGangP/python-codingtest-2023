{
 "cells": [
  {
   "cell_type": "code",
   "execution_count": 15,
   "metadata": {},
   "outputs": [],
   "source": [
    "from tkinter import *\n",
    "\n",
    "window = Tk()\n",
    "window.geometry('500x500')\n",
    "\n",
    "photo = PhotoImage(file='pet1.png')\n",
    "\n",
    "photoAry = []\n",
    "h = photo.height()\n",
    "w = photo.width()\n",
    "# 칼라 이미지를 그레이 이미지로 바꿈\n",
    "for i in range(h):\n",
    "    for k in range(w):\n",
    "        r, g, b = photo.get(i, k)\n",
    "        value = (r + g + b)//3\n",
    "        photoAry.append(value)\n",
    "pos = 0\n",
    "'''\n",
    "# 그레이 이미지를 흑백 이미지로 바꿈\n",
    "for i in range(len(photoAry)):\n",
    "    if photoAry[i] <= 127:\n",
    "        photoAry[i] = 0\n",
    "    else:\n",
    "        photoAry[i] = 255\n",
    "'''\n",
    "# 바꾼 값을 저장함\n",
    "for i in range(h):\n",
    "    for j in range(w):\n",
    "        r = g = b = photoAry[pos]\n",
    "        pos += 1\n",
    "        photo.put('#%02x%02x%02x' % (r, g, b), (i, j))\n",
    "\n",
    "paper = Label(window, image=photo)\n",
    "paper.pack(expand=0, anchor=CENTER)\n",
    "window.mainloop()"
   ]
  }
 ],
 "metadata": {
  "kernelspec": {
   "display_name": "Python 3",
   "language": "python",
   "name": "python3"
  },
  "language_info": {
   "codemirror_mode": {
    "name": "ipython",
    "version": 3
   },
   "file_extension": ".py",
   "mimetype": "text/x-python",
   "name": "python",
   "nbconvert_exporter": "python",
   "pygments_lexer": "ipython3",
   "version": "3.11.1"
  },
  "orig_nbformat": 4,
  "vscode": {
   "interpreter": {
    "hash": "71b1b81ffc27d97be07a3b3747d87f3fa31f943afac0b672ba5feabfb5da68fc"
   }
  }
 },
 "nbformat": 4,
 "nbformat_minor": 2
}

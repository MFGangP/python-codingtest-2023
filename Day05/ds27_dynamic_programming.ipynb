{
 "cells": [
  {
   "attachments": {},
   "cell_type": "markdown",
   "metadata": {},
   "source": [
    "### 동적 프로그래밍"
   ]
  },
  {
   "cell_type": "code",
   "execution_count": 3,
   "metadata": {},
   "outputs": [],
   "source": [
    "# 전역변수\n",
    "maxWeight = 7 # 배낭 최대무게\n",
    "rowCount = 4\n",
    "weight = [0, 6, 4, 3, 5] # 0, 금, 수정, 루비, 진주\n",
    "money = [0, 13, 8, 6, 12]# 0, 금, 수정, 루비, 진주\n",
    "\n",
    "def knapsack():\n",
    "    print('## 메모이제이션 배열 ##')\n",
    "    array = [[0 for _ in range(maxWeight+1)] for _ in range(rowCount+1)]\n",
    "    # 처음 0 들어가는 배열은 쓰잘데기가 없다\n",
    "\n",
    "# 값을 만든 다음에 이전 칸 가격이랑 비교해서 넣는 과정\n",
    "    for row in range(1, rowCount+1): # 4번 보석 개수\n",
    "        print(row, '개 --> ', end=' ')\n",
    "        for col in range(1, maxWeight+1): # 1kg ~ 7kg\n",
    "            if weight[row] > col: # 물건의 무게가 해당 열(가방) 보다 크면\n",
    "                # (1, 1)은 (0, 1)\n",
    "                array[row][col] = array[row-1][col]\n",
    "            else : # 물건 무게가 작으면\n",
    "                value1 = money[row] + array[row-1][col-weight[row]]\n",
    "                value2 = array[row-1][col]\n",
    "                array[row][col] = max(value1, value2)\n",
    "            print(f'{array[row][col]}', end=' ')\n",
    "        print()\n",
    "    return array[rowCount][maxWeight]"
   ]
  },
  {
   "cell_type": "code",
   "execution_count": 4,
   "metadata": {},
   "outputs": [
    {
     "name": "stdout",
     "output_type": "stream",
     "text": [
      "## 메모이제이션 배열 ##\n",
      "1 개 -->  0 0 0 0 0 13 13 \n",
      "2 개 -->  0 0 0 8 8 13 13 \n",
      "3 개 -->  0 0 6 8 8 13 14 \n",
      "4 개 -->  0 0 6 8 12 13 14 \n"
     ]
    },
    {
     "data": {
      "text/plain": [
       "14"
      ]
     },
     "execution_count": 4,
     "metadata": {},
     "output_type": "execute_result"
    }
   ],
   "source": [
    "knapsack()"
   ]
  },
  {
   "attachments": {},
   "cell_type": "markdown",
   "metadata": {},
   "source": [
    "#### 피보나치 수열 "
   ]
  },
  {
   "cell_type": "code",
   "execution_count": 10,
   "metadata": {},
   "outputs": [
    {
     "name": "stdout",
     "output_type": "stream",
     "text": [
      "피보나치 수 --> 0 1 1 2 3 5 8 13 21 34 55 89 144 233 377 610 987 1597 2584 4181 6765 10946 17711 28657 46368 75025 121393 196418 317811 514229 832040 1346269 2178309 3524578 5702887 9227465 14930352 24157817 39088169 63245986 102334155 165580141 267914296 433494437 701408733 1134903170 1836311903 2971215073 4807526976 7778742049 12586269025 20365011074 32951280099 53316291173 86267571272 139583862445 225851433717 365435296162 591286729879 956722026041 1548008755920 2504730781961 4052739537881 6557470319842 10610209857723 17167680177565 27777890035288 44945570212853 72723460248141 117669030460994 190392490709135 308061521170129 498454011879264 806515533049393 1304969544928657 2111485077978050 3416454622906707 5527939700884757 8944394323791464 14472334024676221 23416728348467685 37889062373143906 61305790721611591 99194853094755497 160500643816367088 259695496911122585 420196140727489673 679891637638612258 1100087778366101931 1779979416004714189 2880067194370816120 4660046610375530309 7540113804746346429 12200160415121876738 19740274219868223167 31940434634990099905 51680708854858323072 83621143489848422977 135301852344706746049 218922995834555169026 "
     ]
    }
   ],
   "source": [
    "# 한번 계산된 결과를 메모이제이션\n",
    "d = [0] * 1000\n",
    "\n",
    "def fibonacci(n):\n",
    "    if n == 0 or n == 1 or n == 2: return 1\n",
    "    \n",
    "    if d[n] != 0: return d[n] # 이미 계산 했다는 소리\n",
    "\n",
    "    d[n] = fibonacci(n - 1) + fibonacci(n - 2)\n",
    "    return d[n]\n",
    "\n",
    "print('피보나치 수 --> 0 1', end=' ')\n",
    "for i in range(2, 100):\n",
    "    print(fibonacci(i), end=' ')"
   ]
  }
 ],
 "metadata": {
  "kernelspec": {
   "display_name": "Python 3",
   "language": "python",
   "name": "python3"
  },
  "language_info": {
   "codemirror_mode": {
    "name": "ipython",
    "version": 3
   },
   "file_extension": ".py",
   "mimetype": "text/x-python",
   "name": "python",
   "nbconvert_exporter": "python",
   "pygments_lexer": "ipython3",
   "version": "3.11.1"
  },
  "orig_nbformat": 4,
  "vscode": {
   "interpreter": {
    "hash": "71b1b81ffc27d97be07a3b3747d87f3fa31f943afac0b672ba5feabfb5da68fc"
   }
  }
 },
 "nbformat": 4,
 "nbformat_minor": 2
}

{
 "cells": [
  {
   "cell_type": "markdown",
   "metadata": {},
   "source": [
    "### 이진 검색"
   ]
  },
  {
   "cell_type": "code",
   "execution_count": 3,
   "metadata": {},
   "outputs": [],
   "source": [
    "def binSearch(ary, fData):\n",
    "    pos = -1\n",
    "    start = 0\n",
    "    end = len(ary)-1\n",
    "\n",
    "    while (start <= end):\n",
    "        mid = (start + end) // 2 # 시작, 끝 값 합쳐서 중간 값 찾기\n",
    "        if fData == ary[mid]:   # 중간 값이 찾는 값이면\n",
    "            return mid          # 그냥 리턴해주기\n",
    "        elif fData > ary[mid]:# 찾는 값이 크다면\n",
    "            start = mid + 1 # 중심 왼쪽 값 버리기\n",
    "        else:\n",
    "            end = mid - 1 # 오른쪽 값 다 버리기\n",
    "\n",
    "    return pos  # 값 못찾음"
   ]
  },
  {
   "cell_type": "code",
   "execution_count": 6,
   "metadata": {},
   "outputs": [
    {
     "name": "stdout",
     "output_type": "stream",
     "text": [
      "전체 배열 -->  [50, 60, 105, 120, 150, 160, 162, 168, 177, 188]\n",
      "170 이 없습니다.\n"
     ]
    }
   ],
   "source": [
    "dataAry = [50, 60, 105, 120, 150, 160, 162, 168, 177, 188]\n",
    "finData = 170\n",
    "\n",
    "print('전체 배열 --> ', dataAry)\n",
    "position = binSearch(dataAry, finData)  # 찾는 값 입력\n",
    "if position == -1:  # 못찾았다면\n",
    "    print(finData,'이 없습니다.')\n",
    "else:       # 찾았으면\n",
    "    print(finData,'는',position,'에 위치해 있습니다.')"
   ]
  },
  {
   "cell_type": "code",
   "execution_count": null,
   "metadata": {},
   "outputs": [],
   "source": []
  },
  {
   "cell_type": "code",
   "execution_count": null,
   "metadata": {},
   "outputs": [],
   "source": []
  },
  {
   "cell_type": "code",
   "execution_count": null,
   "metadata": {},
   "outputs": [],
   "source": []
  },
  {
   "cell_type": "code",
   "execution_count": null,
   "metadata": {},
   "outputs": [],
   "source": []
  }
 ],
 "metadata": {
  "kernelspec": {
   "display_name": "Python 3",
   "language": "python",
   "name": "python3"
  },
  "language_info": {
   "codemirror_mode": {
    "name": "ipython",
    "version": 3
   },
   "file_extension": ".py",
   "mimetype": "text/x-python",
   "name": "python",
   "nbconvert_exporter": "python",
   "pygments_lexer": "ipython3",
   "version": "3.11.1"
  },
  "orig_nbformat": 4,
  "vscode": {
   "interpreter": {
    "hash": "71b1b81ffc27d97be07a3b3747d87f3fa31f943afac0b672ba5feabfb5da68fc"
   }
  }
 },
 "nbformat": 4,
 "nbformat_minor": 2
}

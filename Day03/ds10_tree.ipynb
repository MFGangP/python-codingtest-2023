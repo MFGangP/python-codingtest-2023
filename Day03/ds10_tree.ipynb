{
 "cells": [
  {
   "attachments": {},
   "cell_type": "markdown",
   "metadata": {},
   "source": [
    "## 트리 구조"
   ]
  },
  {
   "cell_type": "code",
   "execution_count": 1,
   "metadata": {},
   "outputs": [],
   "source": [
    "class TreeNode: # 트리 노드\n",
    "\n",
    "    def __init__(self) -> None:\n",
    "        self.left = None\n",
    "        self.data = None\n",
    "        self.right = None"
   ]
  },
  {
   "cell_type": "markdown",
   "metadata": {},
   "source": [
    "### 트리 구성"
   ]
  },
  {
   "cell_type": "code",
   "execution_count": 4,
   "metadata": {},
   "outputs": [],
   "source": [
    "rootNode = TreeNode()\n",
    "rootNode.data = '화사'\n",
    "\n",
    "node2 = TreeNode()\n",
    "node2.data = '솔라'\n",
    "rootNode.left = node2\n",
    "\n",
    "node3 = TreeNode()\n",
    "node3.data = '문별'\n",
    "rootNode.right = node3\n",
    "\n",
    "node4 = TreeNode()\n",
    "node4.data = '휘인'\n",
    "node2.left = node4\n",
    "\n",
    "node5 = TreeNode()\n",
    "node5.data = '쯔위'\n",
    "node2.right = node5\n",
    "\n",
    "node6 = TreeNode()\n",
    "node6.data = '선미'\n",
    "node3.left = node6\n",
    "\n",
    "node7 = TreeNode()\n",
    "node7.data = '사나'\n",
    "node3.right = node7"
   ]
  },
  {
   "cell_type": "code",
   "execution_count": 32,
   "metadata": {},
   "outputs": [
    {
     "name": "stdout",
     "output_type": "stream",
     "text": [
      "       화사\n",
      "      ↙    ↘\n",
      "   솔라     문별\n",
      "  ↙   ↘     ↙   ↘\n",
      "휘인 쯔위 선미 사나\n"
     ]
    }
   ],
   "source": [
    "print('      ',rootNode.data) # 루트(레벨0) 화사   \n",
    "print('      ↙    ↘') # 분배\n",
    "print('  ',rootNode.left.data, end='     ') # 레벨1 솔라\n",
    "print(rootNode.right.data) # 레벨1  문별\n",
    "print('  ↙   ↘     ↙   ↘') # 분배\n",
    "print(rootNode.left.left.data, end=' ') # 레벨2 휘인 \n",
    "print(rootNode.left.right.data, end=' ') # 레벨2 쯔위\n",
    "print(rootNode.right.left.data, end=' ') # 레벨2 선미\n",
    "print(rootNode.right.right.data) # 레벨2 사나"
   ]
  },
  {
   "attachments": {},
   "cell_type": "markdown",
   "metadata": {},
   "source": [
    "### 순회 종류\n",
    "\n",
    "#### 전위 순회, 중위 순회, 후위 순회\n",
    "\n",
    "##### 전위 현 왼 오\n",
    "\n",
    "##### 중위 왼 현 오\n",
    "\n",
    "##### 후위 왼 오 현"
   ]
  },
  {
   "cell_type": "code",
   "execution_count": 37,
   "metadata": {},
   "outputs": [
    {
     "name": "stdout",
     "output_type": "stream",
     "text": [
      "       화사\n",
      "      ↙    ↘\n",
      "   솔라     문별\n",
      "  ↙   ↘     ↙   ↘\n",
      "휘인 쯔위 선미 사나\n",
      "--------------------------------------\n",
      "전위 순회 :  화사->솔라->휘인->쯔위->문별->선미->사나->끝\n",
      "중위 순회 :  휘인->솔라->쯔위->화사->선미->문별->사나->끝\n",
      "후위 순회 :  휘인->솔라->쯔위->선미->문별->사나->화사->끝\n"
     ]
    }
   ],
   "source": [
    "# 재귀 호출\n",
    "# 자기 함수를 자기가 다시 불러서 일을 하는 것\n",
    "# 짧은 코드로 모든 일을 다 할 수 있는데 이해하기 힘듦\n",
    "\n",
    "def preoder(node):\n",
    "    if node == None:\n",
    "        return\n",
    "    print(node.data, end = '->')\n",
    "    preoder(node.left)\n",
    "    preoder(node.right)\n",
    "\n",
    "def inoder(node):\n",
    "    if node == None:\n",
    "        return\n",
    "    inoder(node.left)\n",
    "    print(node.data, end = '->')\n",
    "    inoder(node.right)\n",
    "\n",
    "def postoder(node):\n",
    "    if node == None:\n",
    "        return\n",
    "    inoder(node.left)\n",
    "    inoder(node.right)\n",
    "    print(node.data, end = '->')\n",
    "\n",
    "print('      ',rootNode.data) # 루트(레벨0) 화사   \n",
    "print('      ↙    ↘') # 분배\n",
    "print('  ',rootNode.left.data, end='     ') # 레벨1 솔라\n",
    "print(rootNode.right.data) # 레벨1  문별\n",
    "print('  ↙   ↘     ↙   ↘') # 분배\n",
    "print(rootNode.left.left.data, end=' ') # 레벨2 휘인 \n",
    "print(rootNode.left.right.data, end=' ') # 레벨2 쯔위\n",
    "print(rootNode.right.left.data, end=' ') # 레벨2 선미\n",
    "print(rootNode.right.right.data) # 레벨2 사나\n",
    "\n",
    "print('--------------------------------------')\n",
    "\n",
    "print('전위 순회 : ', end=' ')\n",
    "preoder(rootNode)\n",
    "print('끝')\n",
    "\n",
    "print('중위 순회 : ', end=' ')\n",
    "inoder(rootNode)\n",
    "print('끝')\n",
    "\n",
    "print('후위 순회 : ', end=' ')\n",
    "postoder(rootNode)\n",
    "print('끝')"
   ]
  },
  {
   "cell_type": "code",
   "execution_count": 57,
   "metadata": {},
   "outputs": [
    {
     "name": "stdout",
     "output_type": "stream",
     "text": [
      "이진 탐색 트리 구성 완료\n",
      "        블랙핑크\n",
      "      ↙           ↘\n",
      "   레드밸벳     에이핑크\n",
      "  ↙        ↘           ↘\n",
      "걸스데이  마마무      트와이스\n",
      "--------------------------------------\n"
     ]
    }
   ],
   "source": [
    "class TreeNode: # 트리 노드\n",
    "\n",
    "    def __init__(self) -> None:\n",
    "        self.left = None\n",
    "        self.data = None\n",
    "        self.right = None\n",
    "\n",
    "memory = []\n",
    "\n",
    "root = None\n",
    "nameArry = ['블랙핑크', '레드밸벳', '마마무', '에이핑크', '걸스데이', '트와이스']\n",
    "\n",
    "node = TreeNode()\n",
    "node.data = nameArry[0]\n",
    "root = node\n",
    "memory.append(node)\n",
    "\n",
    "for name in nameArry[1:]:\n",
    "\n",
    "    node = TreeNode()\n",
    "    node.data = name\n",
    "\n",
    "    current = root\n",
    "    while True:\n",
    "        if name < current.data: # 부모노드 왼쪽\n",
    "            if current.left == None:\n",
    "                current.left = node\n",
    "                break\n",
    "            current = current.left\n",
    "        else:                   # 부모노드 오른쪽\n",
    "            if current.right == None :\n",
    "                current.right = node\n",
    "                break\n",
    "            current = current.right \n",
    "        \n",
    "    memory.append(node) # 메모리에 저장\n",
    "\n",
    "print('이진 탐색 트리 구성 완료')\n",
    "\n",
    "print('       ',root.data) # 루트(레벨0) 화사   \n",
    "print('      ↙           ↘') # 분배\n",
    "print('  ',root.left.data, end='     ') # 레벨1 솔라\n",
    "print(root.right.data) # 레벨1  문별\n",
    "print('  ↙        ↘           ↘') # 분배\n",
    "print(root.left.left.data, end='  ') # 레벨2 휘인 \n",
    "print(root.left.right.data, end='      ') # 레벨2 쯔위\n",
    "\n",
    "print(root.right.right.data) # 레벨2 사나\n",
    "\n",
    "print('--------------------------------------')"
   ]
  }
 ],
 "metadata": {
  "kernelspec": {
   "display_name": "Python 3",
   "language": "python",
   "name": "python3"
  },
  "language_info": {
   "codemirror_mode": {
    "name": "ipython",
    "version": 3
   },
   "file_extension": ".py",
   "mimetype": "text/x-python",
   "name": "python",
   "nbconvert_exporter": "python",
   "pygments_lexer": "ipython3",
   "version": "3.11.1"
  },
  "orig_nbformat": 4,
  "vscode": {
   "interpreter": {
    "hash": "71b1b81ffc27d97be07a3b3747d87f3fa31f943afac0b672ba5feabfb5da68fc"
   }
  }
 },
 "nbformat": 4,
 "nbformat_minor": 2
}
